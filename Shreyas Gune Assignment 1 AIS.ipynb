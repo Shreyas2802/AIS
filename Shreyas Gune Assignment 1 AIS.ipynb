{
 "cells": [
  {
   "cell_type": "markdown",
   "id": "4c9f67b1",
   "metadata": {},
   "source": [
    "# Calculate the cube of all numbers from 1 to a given number"
   ]
  },
  {
   "cell_type": "code",
   "execution_count": 8,
   "id": "12c153a7",
   "metadata": {},
   "outputs": [
    {
     "name": "stdout",
     "output_type": "stream",
     "text": [
      "Enter any number6\n",
      "[1, 8, 27, 64, 125, 216]\n"
     ]
    }
   ],
   "source": [
    "a = int(input(\"Enter any number\"))\n",
    "cubes = []\n",
    "\n",
    "for i in range(1, a+1):\n",
    "    cube = i*i*i\n",
    "    cubes.append(cube)\n",
    "\n",
    "print(cubes)"
   ]
  },
  {
   "cell_type": "markdown",
   "id": "f0025b09",
   "metadata": {},
   "source": [
    "# Create Function to Find the sum of the number upto n  "
   ]
  },
  {
   "cell_type": "code",
   "execution_count": 9,
   "id": "89cd304a",
   "metadata": {},
   "outputs": [
    {
     "data": {
      "text/plain": [
       "55"
      ]
     },
     "execution_count": 9,
     "metadata": {},
     "output_type": "execute_result"
    }
   ],
   "source": [
    "def s(n):\n",
    "    t_sum = 0\n",
    "    for i in range(1,n+1):\n",
    "        t_sum += i\n",
    "    return t_sum\n",
    "\n",
    "s(10)\n",
    "    "
   ]
  },
  {
   "cell_type": "markdown",
   "id": "809bf9ef",
   "metadata": {},
   "source": [
    "# Create a function to print star pattern "
   ]
  },
  {
   "cell_type": "code",
   "execution_count": 11,
   "id": "84885b08",
   "metadata": {},
   "outputs": [
    {
     "name": "stdout",
     "output_type": "stream",
     "text": [
      "*\n",
      "**\n",
      "***\n",
      "****\n",
      "*****\n"
     ]
    }
   ],
   "source": [
    "def star(n):\n",
    "    for i in range(1,n+1):\n",
    "        print(\"*\" *i)\n",
    "    \n",
    "star(5)"
   ]
  },
  {
   "cell_type": "markdown",
   "id": "e4a013b9",
   "metadata": {},
   "source": [
    "# Write function to Remove vowel only"
   ]
  },
  {
   "cell_type": "code",
   "execution_count": 9,
   "id": "bdb66c08",
   "metadata": {},
   "outputs": [
    {
     "name": "stdout",
     "output_type": "stream",
     "text": [
      "Enter the string:aeiou\n",
      "Output: \n"
     ]
    }
   ],
   "source": [
    "def remove_v(inp):\n",
    "    vowels = \"aeiouAEIOU\"\n",
    "    result_string = \"\"\n",
    "\n",
    "    for char in inp:\n",
    "        if char not in vowels:\n",
    "            result_string += char\n",
    "\n",
    "    return result_string\n",
    "\n",
    "inp = str(input(\"Enter the string:\"))\n",
    "result = remove_v(inp)\n",
    "print(\"Output:\",result)\n"
   ]
  },
  {
   "cell_type": "markdown",
   "id": "f3070eb8",
   "metadata": {},
   "source": [
    "# creat a list of 1 to 20 number using for loop"
   ]
  },
  {
   "cell_type": "code",
   "execution_count": 11,
   "id": "1cfa949a",
   "metadata": {},
   "outputs": [
    {
     "name": "stdout",
     "output_type": "stream",
     "text": [
      "[1, 2, 3, 4, 5, 6, 7, 8, 9, 10, 11, 12, 13, 14, 15, 16, 17, 18, 19, 20]\n"
     ]
    }
   ],
   "source": [
    "numbers_list = []\n",
    "\n",
    "for i in range(1, 21):\n",
    "    numbers_list.append(i)\n",
    "\n",
    "print(numbers_list)"
   ]
  },
  {
   "cell_type": "markdown",
   "id": "937ff191",
   "metadata": {},
   "source": [
    "# create a  list of 20 to 1 value using  for loop without reverse"
   ]
  },
  {
   "cell_type": "code",
   "execution_count": 17,
   "id": "6535a9af",
   "metadata": {},
   "outputs": [
    {
     "name": "stdout",
     "output_type": "stream",
     "text": [
      "[20, 19, 18, 17, 16, 15, 14, 13, 12, 11, 10, 9, 8, 7, 6, 5, 4, 3, 2, 1]\n"
     ]
    }
   ],
   "source": [
    "numbers_list = []\n",
    "\n",
    "for i in range(20, 0, -1):\n",
    "    numbers_list.append(i)\n",
    "\n",
    "print(numbers_list)"
   ]
  },
  {
   "cell_type": "markdown",
   "id": "32db3be1",
   "metadata": {},
   "source": [
    "# Cube of odd values between 20 to 40"
   ]
  },
  {
   "cell_type": "code",
   "execution_count": 20,
   "id": "9e089a88",
   "metadata": {},
   "outputs": [
    {
     "name": "stdout",
     "output_type": "stream",
     "text": [
      "[8000, 9261, 10648, 12167, 13824, 15625, 17576, 19683, 21952, 24389, 27000, 29791, 32768, 35937, 39304, 42875, 46656, 50653, 54872, 59319, 64000]\n"
     ]
    }
   ],
   "source": [
    "odd=[]\n",
    "for i in range(20,41):\n",
    "    if(i/2!=0):\n",
    "        odd.append(i**3)\n",
    "print(odd)"
   ]
  },
  {
   "cell_type": "markdown",
   "id": "2ce5b63d",
   "metadata": {},
   "source": [
    "# take 5 freinds name in list "
   ]
  },
  {
   "cell_type": "code",
   "execution_count": 23,
   "id": "9eb786d3",
   "metadata": {},
   "outputs": [
    {
     "name": "stdout",
     "output_type": "stream",
     "text": [
      "My name is: Shreyas and my age is: 21\n",
      "My name is: Ashish and my age is: 22\n",
      "My name is: Prasad and my age is: 22\n",
      "My name is: Mayur and my age is: 22\n"
     ]
    }
   ],
   "source": [
    "names = [\"Shreyas\",\"Ashish\",\"Prasad\",\"Mayur\"]\n",
    "ages = [21,22,22,22]\n",
    "for i in range(len(names)):\n",
    "    name = names[i]\n",
    "    age = ages[i]\n",
    "    print(\"My name is:\",name,\"and my age is:\",age)"
   ]
  },
  {
   "cell_type": "markdown",
   "id": "df9b02e9",
   "metadata": {},
   "source": [
    "# Given a list, write a Python code  to swap first and last element of the list.\n"
   ]
  },
  {
   "cell_type": "code",
   "execution_count": 29,
   "id": "0c50ea1b",
   "metadata": {},
   "outputs": [
    {
     "name": "stdout",
     "output_type": "stream",
     "text": [
      "Enter the numbers123\n",
      "['3', '2', '1']\n"
     ]
    }
   ],
   "source": [
    "l = list(input(\"Enter the numbers\"))\n",
    "\n",
    "if len(l) >= 2:\n",
    "    l[0], l[-1] = l[-1], l[0]\n",
    "\n",
    "print(l)\n"
   ]
  },
  {
   "cell_type": "markdown",
   "id": "52407f38",
   "metadata": {},
   "source": [
    "# write code count lenght of string"
   ]
  },
  {
   "cell_type": "code",
   "execution_count": 31,
   "id": "5f97d01b",
   "metadata": {},
   "outputs": [
    {
     "name": "stdout",
     "output_type": "stream",
     "text": [
      "Enter the string:shreyass\n",
      "8\n"
     ]
    }
   ],
   "source": [
    "l = str(input(\"Enter the string:\"))\n",
    "i = len(l)\n",
    "print(i)"
   ]
  },
  {
   "cell_type": "markdown",
   "id": "e8b9df01",
   "metadata": {},
   "source": [
    "# Write a Python program to get the sum of a only non-negative integer."
   ]
  },
  {
   "cell_type": "code",
   "execution_count": 15,
   "id": "f3907949",
   "metadata": {},
   "outputs": [
    {
     "name": "stdout",
     "output_type": "stream",
     "text": [
      "Enter the numbers:3 55 -77 0 55\n",
      "113\n"
     ]
    }
   ],
   "source": [
    "a = input(\"Enter the numbers:\")\n",
    "l = a.split()\n",
    "b = 0\n",
    "for num in l:\n",
    "    if int(num) >= 0:\n",
    "        b += int(num)\n",
    "\n",
    "print(b)"
   ]
  },
  {
   "cell_type": "markdown",
   "id": "85ed9616",
   "metadata": {},
   "source": [
    "# write code for factorial"
   ]
  },
  {
   "cell_type": "code",
   "execution_count": 18,
   "id": "a7a2f9f9",
   "metadata": {},
   "outputs": [
    {
     "name": "stdout",
     "output_type": "stream",
     "text": [
      "Enter a number: 5\n",
      "The factorial of 5 is 120\n"
     ]
    }
   ],
   "source": [
    "a = int(input(\"Enter a number: \"))\n",
    "\n",
    "if(a < 0):\n",
    "    print(\"Factorial is not defined for negative numbers.\")\n",
    "else:\n",
    "    factorial = 1\n",
    "    for i in range(1, a + 1):\n",
    "        factorial *= i\n",
    "\n",
    "    print(\"The factorial of\",a ,\"is\" ,factorial)\n"
   ]
  },
  {
   "cell_type": "code",
   "execution_count": null,
   "id": "13c9fe10",
   "metadata": {},
   "outputs": [],
   "source": []
  }
 ],
 "metadata": {
  "kernelspec": {
   "display_name": "Python 3 (ipykernel)",
   "language": "python",
   "name": "python3"
  },
  "language_info": {
   "codemirror_mode": {
    "name": "ipython",
    "version": 3
   },
   "file_extension": ".py",
   "mimetype": "text/x-python",
   "name": "python",
   "nbconvert_exporter": "python",
   "pygments_lexer": "ipython3",
   "version": "3.11.3"
  }
 },
 "nbformat": 4,
 "nbformat_minor": 5
}
